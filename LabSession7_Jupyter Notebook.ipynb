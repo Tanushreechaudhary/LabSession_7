{
 "cells": [
  {
   "cell_type": "markdown",
   "metadata": {},
   "source": [
    "   # Lab Session 7  -  Jupyter Notebook\n",
    "\n",
    "\n",
    "Import pandas_datareader to get the close date for every ticker symbol. Import requests library as rq to query the yahoo finance website and get the ticket symbol. Import fuzzywuzzy for getting a partial match against yahoo's website."
   ]
  },
  {
   "cell_type": "code",
   "execution_count": 3,
   "metadata": {},
   "outputs": [],
   "source": [
    "import pandas as pd\n",
    "import pandas_datareader as pdr\n",
    "\n",
    "import requests as rq\n",
    "import datetime as dt\n",
    "\n",
    "import fuzzywuzzy\n",
    "from fuzzywuzzy import fuzz\n",
    "from fuzzywuzzy import process"
   ]
  },
  {
   "cell_type": "markdown",
   "metadata": {},
   "source": [
    "Reading the excel file saved in Lab Session 2, which was extracted from the website Information is beautiful.\n",
    "\n",
    "Original Data source: https://docs.google.com/spreadsheets/d/1Je-YUdnhjQJO_13r8iTeRxpU2pBKuV6RVRHoYCgiMfg/edit#gid=322165570"
   ]
  },
  {
   "cell_type": "code",
   "execution_count": 5,
   "metadata": {
    "collapsed": true
   },
   "outputs": [],
   "source": [
    "Lab7 = pd.read_excel(r\"C:\\Users\\Tanushree\\Desktop\\UNIVERSITY\\Quarter 4\\Dashboard\\Lab1_Session\\Session1.xlsx\",sheetname = 0)"
   ]
  },
  {
   "cell_type": "markdown",
   "metadata": {},
   "source": [
    "Getting the first five rows."
   ]
  },
  {
   "cell_type": "code",
   "execution_count": 6,
   "metadata": {},
   "outputs": [
    {
     "data": {
      "text/html": [
       "<div>\n",
       "<style>\n",
       "    .dataframe thead tr:only-child th {\n",
       "        text-align: right;\n",
       "    }\n",
       "\n",
       "    .dataframe thead th {\n",
       "        text-align: left;\n",
       "    }\n",
       "\n",
       "    .dataframe tbody tr th {\n",
       "        vertical-align: top;\n",
       "    }\n",
       "</style>\n",
       "<table border=\"1\" class=\"dataframe\">\n",
       "  <thead>\n",
       "    <tr style=\"text-align: right;\">\n",
       "      <th></th>\n",
       "      <th>Entity</th>\n",
       "      <th>alternative name</th>\n",
       "      <th>story</th>\n",
       "      <th>YEAR</th>\n",
       "      <th>records lost</th>\n",
       "      <th>ORGANISATION</th>\n",
       "      <th>METHOD OF LEAK</th>\n",
       "      <th>interesting story</th>\n",
       "      <th>NO OF RECORDS STOLEN</th>\n",
       "      <th>DATA SENSITIVITY</th>\n",
       "      <th>UNUSED</th>\n",
       "      <th>UNUSED.1</th>\n",
       "      <th>Exclude</th>\n",
       "      <th>Unnamed: 13</th>\n",
       "      <th>1st source link</th>\n",
       "      <th>2nd source link</th>\n",
       "      <th>3rd source</th>\n",
       "      <th>source name</th>\n",
       "    </tr>\n",
       "  </thead>\n",
       "  <tbody>\n",
       "    <tr>\n",
       "      <th>0</th>\n",
       "      <td>NaN</td>\n",
       "      <td>NaN</td>\n",
       "      <td>Elaboration if there's an interesting story or...</td>\n",
       "      <td>years are encoded (0=2004, 8 = 2012, 9 = 2013,...</td>\n",
       "      <td>(use 3m, 4m, 5m or 10m to approximate unknown ...</td>\n",
       "      <td>NaN</td>\n",
       "      <td>NaN</td>\n",
       "      <td>NaN</td>\n",
       "      <td>(use 3m, 4m, 5m or 10m to approximate unknown ...</td>\n",
       "      <td>1. Just email address/Online information 20 SS...</td>\n",
       "      <td>NaN</td>\n",
       "      <td>NaN</td>\n",
       "      <td>Show this item in the viz?</td>\n",
       "      <td>NaN</td>\n",
       "      <td>NaN</td>\n",
       "      <td>NaN</td>\n",
       "      <td>NaN</td>\n",
       "      <td>NaN</td>\n",
       "    </tr>\n",
       "    <tr>\n",
       "      <th>1</th>\n",
       "      <td>AOL</td>\n",
       "      <td>American Online</td>\n",
       "      <td>A former America Online software engineer stol...</td>\n",
       "      <td>0</td>\n",
       "      <td>92000000</td>\n",
       "      <td>web</td>\n",
       "      <td>inside job</td>\n",
       "      <td>NaN</td>\n",
       "      <td>92000000</td>\n",
       "      <td>1</td>\n",
       "      <td>NaN</td>\n",
       "      <td>NaN</td>\n",
       "      <td>NaN</td>\n",
       "      <td>NaN</td>\n",
       "      <td>http://money.cnn.com/2004/06/23/technology/aol...</td>\n",
       "      <td>http://www.msnbc.msn.com/id/8985989/#.UFcN8RgUwaA</td>\n",
       "      <td>NaN</td>\n",
       "      <td>CNN</td>\n",
       "    </tr>\n",
       "    <tr>\n",
       "      <th>2</th>\n",
       "      <td>Automatic Data Processing</td>\n",
       "      <td>Business outsourcing, payrolls, benefits</td>\n",
       "      <td>NaN</td>\n",
       "      <td>1</td>\n",
       "      <td>125000</td>\n",
       "      <td>financial</td>\n",
       "      <td>poor security</td>\n",
       "      <td>NaN</td>\n",
       "      <td>130000</td>\n",
       "      <td>20</td>\n",
       "      <td>NaN</td>\n",
       "      <td>NaN</td>\n",
       "      <td>NaN</td>\n",
       "      <td>NaN</td>\n",
       "      <td>http://abcnews.go.com/Technology/story?id=2160...</td>\n",
       "      <td>NaN</td>\n",
       "      <td>NaN</td>\n",
       "      <td>ABC</td>\n",
       "    </tr>\n",
       "    <tr>\n",
       "      <th>3</th>\n",
       "      <td>Ameritrade Inc.</td>\n",
       "      <td>Computer backup tape containing personal infor...</td>\n",
       "      <td>online broker</td>\n",
       "      <td>1</td>\n",
       "      <td>200000</td>\n",
       "      <td>financial</td>\n",
       "      <td>lost / stolen device</td>\n",
       "      <td>NaN</td>\n",
       "      <td>200000</td>\n",
       "      <td>20</td>\n",
       "      <td>NaN</td>\n",
       "      <td>NaN</td>\n",
       "      <td>NaN</td>\n",
       "      <td>NaN</td>\n",
       "      <td>http://www.nbcnews.com/id/7561268/</td>\n",
       "      <td>NaN</td>\n",
       "      <td>NaN</td>\n",
       "      <td>NaN</td>\n",
       "    </tr>\n",
       "    <tr>\n",
       "      <th>4</th>\n",
       "      <td>Citigroup</td>\n",
       "      <td>NaN</td>\n",
       "      <td>Blame the messenger! A box of computer tapes c...</td>\n",
       "      <td>1</td>\n",
       "      <td>3900000</td>\n",
       "      <td>financial</td>\n",
       "      <td>lost / stolen device</td>\n",
       "      <td>y</td>\n",
       "      <td>3900000</td>\n",
       "      <td>300</td>\n",
       "      <td>NaN</td>\n",
       "      <td>NaN</td>\n",
       "      <td>NaN</td>\n",
       "      <td>NaN</td>\n",
       "      <td>http://www.nytimes.com/2005/06/07/business/07d...</td>\n",
       "      <td>NaN</td>\n",
       "      <td>NaN</td>\n",
       "      <td>NY Times</td>\n",
       "    </tr>\n",
       "  </tbody>\n",
       "</table>\n",
       "</div>"
      ],
      "text/plain": [
       "                      Entity  \\\n",
       "0                        NaN   \n",
       "1                        AOL   \n",
       "2  Automatic Data Processing   \n",
       "3            Ameritrade Inc.   \n",
       "4                  Citigroup   \n",
       "\n",
       "                                    alternative name  \\\n",
       "0                                                NaN   \n",
       "1                                    American Online   \n",
       "2           Business outsourcing, payrolls, benefits   \n",
       "3  Computer backup tape containing personal infor...   \n",
       "4                                                NaN   \n",
       "\n",
       "                                               story  \\\n",
       "0  Elaboration if there's an interesting story or...   \n",
       "1  A former America Online software engineer stol...   \n",
       "2                                                NaN   \n",
       "3                                      online broker   \n",
       "4  Blame the messenger! A box of computer tapes c...   \n",
       "\n",
       "                                                YEAR  \\\n",
       "0  years are encoded (0=2004, 8 = 2012, 9 = 2013,...   \n",
       "1                                                  0   \n",
       "2                                                  1   \n",
       "3                                                  1   \n",
       "4                                                  1   \n",
       "\n",
       "                                        records lost ORGANISATION  \\\n",
       "0  (use 3m, 4m, 5m or 10m to approximate unknown ...          NaN   \n",
       "1                                           92000000          web   \n",
       "2                                             125000    financial   \n",
       "3                                             200000    financial   \n",
       "4                                            3900000    financial   \n",
       "\n",
       "         METHOD OF LEAK interesting story  \\\n",
       "0                   NaN               NaN   \n",
       "1            inside job               NaN   \n",
       "2         poor security               NaN   \n",
       "3  lost / stolen device               NaN   \n",
       "4  lost / stolen device                 y   \n",
       "\n",
       "                                NO OF RECORDS STOLEN  \\\n",
       "0  (use 3m, 4m, 5m or 10m to approximate unknown ...   \n",
       "1                                           92000000   \n",
       "2                                             130000   \n",
       "3                                             200000   \n",
       "4                                            3900000   \n",
       "\n",
       "                                    DATA SENSITIVITY  UNUSED  UNUSED.1  \\\n",
       "0  1. Just email address/Online information 20 SS...     NaN       NaN   \n",
       "1                                                  1     NaN       NaN   \n",
       "2                                                 20     NaN       NaN   \n",
       "3                                                 20     NaN       NaN   \n",
       "4                                                300     NaN       NaN   \n",
       "\n",
       "                      Exclude Unnamed: 13  \\\n",
       "0  Show this item in the viz?         NaN   \n",
       "1                         NaN         NaN   \n",
       "2                         NaN         NaN   \n",
       "3                         NaN         NaN   \n",
       "4                         NaN         NaN   \n",
       "\n",
       "                                     1st source link  \\\n",
       "0                                                NaN   \n",
       "1  http://money.cnn.com/2004/06/23/technology/aol...   \n",
       "2  http://abcnews.go.com/Technology/story?id=2160...   \n",
       "3                 http://www.nbcnews.com/id/7561268/   \n",
       "4  http://www.nytimes.com/2005/06/07/business/07d...   \n",
       "\n",
       "                                     2nd source link 3rd source source name  \n",
       "0                                                NaN        NaN         NaN  \n",
       "1  http://www.msnbc.msn.com/id/8985989/#.UFcN8RgUwaA        NaN         CNN  \n",
       "2                                                NaN        NaN         ABC  \n",
       "3                                                NaN        NaN         NaN  \n",
       "4                                                NaN        NaN    NY Times  "
      ]
     },
     "execution_count": 6,
     "metadata": {},
     "output_type": "execute_result"
    }
   ],
   "source": [
    "Lab7.head()"
   ]
  },
  {
   "cell_type": "markdown",
   "metadata": {},
   "source": [
    "Drop the first row which has description text about the column values.\n"
   ]
  },
  {
   "cell_type": "code",
   "execution_count": 7,
   "metadata": {
    "collapsed": true
   },
   "outputs": [],
   "source": [
    "Lab7 = Lab7.drop(Lab7.index[[0]])"
   ]
  },
  {
   "cell_type": "markdown",
   "metadata": {},
   "source": [
    "Drop unnecessary columns from the sheet."
   ]
  },
  {
   "cell_type": "code",
   "execution_count": 8,
   "metadata": {
    "collapsed": true
   },
   "outputs": [],
   "source": [
    "drop1 = ['story','alternative name','NO OF RECORDS STOLEN','interesting story','UNUSED' , 'UNUSED.1', 'Exclude', 'Unnamed: 13', '1st source link', '2nd source link', '3rd source', 'source name']\n",
    "Lab7 = Lab7[[col for col in Lab7.columns if col not in drop1]]"
   ]
  },
  {
   "cell_type": "markdown",
   "metadata": {},
   "source": [
    "Rename columns that have inconsistency in their name."
   ]
  },
  {
   "cell_type": "code",
   "execution_count": 9,
   "metadata": {
    "collapsed": true
   },
   "outputs": [],
   "source": [
    "Lab7 = Lab7.rename(columns = {'Entity':'ENTITY','records lost':'RECORDS LOST' })"
   ]
  },
  {
   "cell_type": "markdown",
   "metadata": {},
   "source": [
    "In the Data Sensitivity column, manipulating values as per the column description given,\n",
    "\n",
    "[1- Just email address/Online information, 20- SSN/Personal details, 300- Credit card information, 4000- Email password/Health records, 50000- Full bank account details]"
   ]
  },
  {
   "cell_type": "code",
   "execution_count": 10,
   "metadata": {
    "collapsed": true
   },
   "outputs": [],
   "source": [
    "Lab7.loc[Lab7['DATA SENSITIVITY'] == 1, 'DATA SENSITIVITY'] = 'Just email address/Online information'\n",
    "Lab7.loc[Lab7['DATA SENSITIVITY'] == 300, 'DATA SENSITIVITY'] = 'Credit card information'\n",
    "Lab7.loc[Lab7['DATA SENSITIVITY'] == 4000, 'DATA SENSITIVITY'] = 'Email password/Health records'\n",
    "Lab7.loc[Lab7['DATA SENSITIVITY'] == 50000, 'DATA SENSITIVITY'] = 'Full bank account details'\n",
    "\n",
    "#Encountered some string values in column with numeric values\n",
    "Lab7.loc[Lab7['DATA SENSITIVITY'] == '20', 'DATA SENSITIVITY'] = 'SSN/Personal details'\n",
    "Lab7.loc[Lab7['DATA SENSITIVITY'] == '300', 'DATA SENSITIVITY'] = 'Credit card information'"
   ]
  },
  {
   "cell_type": "markdown",
   "metadata": {},
   "source": [
    "Approximating the UNKNOWN FIGURES (as given use 3m, 4m, 5m or 10m to approximate unknown figures)\n"
   ]
  },
  {
   "cell_type": "code",
   "execution_count": 11,
   "metadata": {
    "collapsed": true
   },
   "outputs": [],
   "source": [
    "Lab7.loc[Lab7['ENTITY'] == 'OVH', 'RECORDS LOST'] = 5000000\n",
    "Lab7.loc[Lab7['ENTITY'] == 'UbiSoft', 'RECORDS LOST'] = 10000000"
   ]
  },
  {
   "cell_type": "markdown",
   "metadata": {},
   "source": [
    "Replacing year values from 1-14 with actual year values."
   ]
  },
  {
   "cell_type": "code",
   "execution_count": 12,
   "metadata": {
    "collapsed": true
   },
   "outputs": [],
   "source": [
    "Lab7['YEAR'] = Lab7['YEAR'].replace([0,1,2,3,4,5,6,7,8,9,10,11,12,13,14],\n",
    "[2004,2005,2006,2007,2008,2009,2010,2011,2012,2013,2014,2015,2016,2017,2017])"
   ]
  },
  {
   "cell_type": "markdown",
   "metadata": {},
   "source": [
    "First searching the excel file with the yahoo API. Replacing {} brackets with the entity name and using the fuzz.partial_ratio to get the entities that match the yahoo Finance atleast 80% and return the ticker symbol."
   ]
  },
  {
   "cell_type": "code",
   "execution_count": 13,
   "metadata": {
    "collapsed": true
   },
   "outputs": [],
   "source": [
    "def get_symbol(entity_name):\n",
    "    url = \"http://d.yimg.com/autoc.finance.yahoo.com/autoc?query={}&region=1&lang=en\".format(entity_name)\n",
    "\n",
    "    result = rq.get(url).json()\n",
    "\n",
    "    for x in result['ResultSet']['Result']:\n",
    "        if fuzz.partial_ratio(entity_name, x['name']) >= 80:\n",
    "            if x['exchDisp'] == 'NYSE' or x['exchDisp'] == 'NASDAQ':\n",
    "                return x['symbol'] "
   ]
  },
  {
   "cell_type": "markdown",
   "metadata": {},
   "source": [
    "Created a container list to get close dates\n"
   ]
  },
  {
   "cell_type": "code",
   "execution_count": 14,
   "metadata": {
    "collapsed": true
   },
   "outputs": [],
   "source": [
    "ticker = []"
   ]
  },
  {
   "cell_type": "markdown",
   "metadata": {},
   "source": [
    "Iterate for each entity in the excelsheet and once we get the symbol then append it to the empty ticker[]"
   ]
  },
  {
   "cell_type": "code",
   "execution_count": 16,
   "metadata": {},
   "outputs": [],
   "source": [
    "Entity_name = Lab7['ENTITY'].tolist()\n",
    "for y in Entity_name:\n",
    "    ticker.append(get_symbol(y)) "
   ]
  },
  {
   "cell_type": "markdown",
   "metadata": {},
   "source": [
    "There was an error while finding symbols for some companies using yahoo API. Added a try catch statement which prints 'No Ticker' when there is error.\n",
    "The for loop will iterate through the empty data frame created(called Stock_price) and put the data in it. "
   ]
  },
  {
   "cell_type": "code",
   "execution_count": 17,
   "metadata": {},
   "outputs": [
    {
     "name": "stdout",
     "output_type": "stream",
     "text": [
      "No Ticker\n",
      "No Ticker\n"
     ]
    }
   ],
   "source": [
    "Stock_price = pd.DataFrame(columns = ['Symbol','Date', 'Close'])\n",
    "for x in ticker:\n",
    "    if x is not None:\n",
    "        try:\n",
    "            result = pdr.get_data_yahoo(x)\n",
    "            result = result.reset_index()  \n",
    "            result['Symbol'] = x\n",
    "            result = result[['Symbol', 'Date', 'Close']]\n",
    "            Stock_price = Stock_price.append(result)\n",
    "        except:\n",
    "            print('No Ticker')\n",
    "    else:\n",
    "        pass"
   ]
  },
  {
   "cell_type": "markdown",
   "metadata": {},
   "source": [
    "Put the ticker symbols generated column after the last column of sheet Lab7"
   ]
  },
  {
   "cell_type": "code",
   "execution_count": 18,
   "metadata": {
    "collapsed": true
   },
   "outputs": [],
   "source": [
    "Lab7.insert(loc = 6,column = 'Ticker_Symbol', value = ticker)"
   ]
  },
  {
   "cell_type": "markdown",
   "metadata": {},
   "source": [
    "Take the ticker column from Lab7 dataset and match with Ticker_Symbol column from Stock_price dataset and merge them"
   ]
  },
  {
   "cell_type": "code",
   "execution_count": 19,
   "metadata": {
    "collapsed": true
   },
   "outputs": [],
   "source": [
    "Lab7_Redesign = pd.merge(Lab7, Stock_price, left_on='Ticker_Symbol',right_on='Symbol', how='right')"
   ]
  },
  {
   "cell_type": "code",
   "execution_count": 21,
   "metadata": {},
   "outputs": [
    {
     "data": {
      "text/html": [
       "<div>\n",
       "<style>\n",
       "    .dataframe thead tr:only-child th {\n",
       "        text-align: right;\n",
       "    }\n",
       "\n",
       "    .dataframe thead th {\n",
       "        text-align: left;\n",
       "    }\n",
       "\n",
       "    .dataframe tbody tr th {\n",
       "        vertical-align: top;\n",
       "    }\n",
       "</style>\n",
       "<table border=\"1\" class=\"dataframe\">\n",
       "  <thead>\n",
       "    <tr style=\"text-align: right;\">\n",
       "      <th></th>\n",
       "      <th>ENTITY</th>\n",
       "      <th>YEAR</th>\n",
       "      <th>RECORDS LOST</th>\n",
       "      <th>ORGANISATION</th>\n",
       "      <th>METHOD OF LEAK</th>\n",
       "      <th>DATA SENSITIVITY</th>\n",
       "      <th>Ticker_Symbol</th>\n",
       "      <th>Symbol</th>\n",
       "      <th>Date</th>\n",
       "      <th>Close</th>\n",
       "    </tr>\n",
       "  </thead>\n",
       "  <tbody>\n",
       "    <tr>\n",
       "      <th>50986</th>\n",
       "      <td>Equifax</td>\n",
       "      <td>2017</td>\n",
       "      <td>143000000</td>\n",
       "      <td>financial</td>\n",
       "      <td>hacked</td>\n",
       "      <td>Full bank account details</td>\n",
       "      <td>EFX</td>\n",
       "      <td>EFX</td>\n",
       "      <td>2017-10-30</td>\n",
       "      <td>109.010002</td>\n",
       "    </tr>\n",
       "    <tr>\n",
       "      <th>50987</th>\n",
       "      <td>Equifax</td>\n",
       "      <td>2017</td>\n",
       "      <td>143000000</td>\n",
       "      <td>financial</td>\n",
       "      <td>hacked</td>\n",
       "      <td>Full bank account details</td>\n",
       "      <td>EFX</td>\n",
       "      <td>EFX</td>\n",
       "      <td>2017-10-31</td>\n",
       "      <td>108.529999</td>\n",
       "    </tr>\n",
       "    <tr>\n",
       "      <th>50988</th>\n",
       "      <td>Equifax</td>\n",
       "      <td>2017</td>\n",
       "      <td>143000000</td>\n",
       "      <td>financial</td>\n",
       "      <td>hacked</td>\n",
       "      <td>Full bank account details</td>\n",
       "      <td>EFX</td>\n",
       "      <td>EFX</td>\n",
       "      <td>2017-11-01</td>\n",
       "      <td>109.800003</td>\n",
       "    </tr>\n",
       "    <tr>\n",
       "      <th>50989</th>\n",
       "      <td>Equifax</td>\n",
       "      <td>2017</td>\n",
       "      <td>143000000</td>\n",
       "      <td>financial</td>\n",
       "      <td>hacked</td>\n",
       "      <td>Full bank account details</td>\n",
       "      <td>EFX</td>\n",
       "      <td>EFX</td>\n",
       "      <td>2017-11-02</td>\n",
       "      <td>108.919998</td>\n",
       "    </tr>\n",
       "    <tr>\n",
       "      <th>50990</th>\n",
       "      <td>Equifax</td>\n",
       "      <td>2017</td>\n",
       "      <td>143000000</td>\n",
       "      <td>financial</td>\n",
       "      <td>hacked</td>\n",
       "      <td>Full bank account details</td>\n",
       "      <td>EFX</td>\n",
       "      <td>EFX</td>\n",
       "      <td>2017-11-03</td>\n",
       "      <td>108.989998</td>\n",
       "    </tr>\n",
       "  </tbody>\n",
       "</table>\n",
       "</div>"
      ],
      "text/plain": [
       "        ENTITY  YEAR RECORDS LOST ORGANISATION METHOD OF LEAK  \\\n",
       "50986  Equifax  2017    143000000    financial         hacked   \n",
       "50987  Equifax  2017    143000000    financial         hacked   \n",
       "50988  Equifax  2017    143000000    financial         hacked   \n",
       "50989  Equifax  2017    143000000    financial         hacked   \n",
       "50990  Equifax  2017    143000000    financial         hacked   \n",
       "\n",
       "                DATA SENSITIVITY Ticker_Symbol Symbol       Date       Close  \n",
       "50986  Full bank account details           EFX    EFX 2017-10-30  109.010002  \n",
       "50987  Full bank account details           EFX    EFX 2017-10-31  108.529999  \n",
       "50988  Full bank account details           EFX    EFX 2017-11-01  109.800003  \n",
       "50989  Full bank account details           EFX    EFX 2017-11-02  108.919998  \n",
       "50990  Full bank account details           EFX    EFX 2017-11-03  108.989998  "
      ]
     },
     "execution_count": 21,
     "metadata": {},
     "output_type": "execute_result"
    }
   ],
   "source": [
    "Lab7_Redesign.tail()"
   ]
  },
  {
   "cell_type": "markdown",
   "metadata": {},
   "source": [
    "Download the data set for All Companies as a csv file"
   ]
  },
  {
   "cell_type": "code",
   "execution_count": 22,
   "metadata": {
    "collapsed": true
   },
   "outputs": [],
   "source": [
    "Lab7_Redesign.to_csv('Lab7_AllTicker.csv',index=False)"
   ]
  },
  {
   "cell_type": "markdown",
   "metadata": {},
   "source": [
    "For showing the claim about Equifax, just extracted data about Equifax only"
   ]
  },
  {
   "cell_type": "code",
   "execution_count": 35,
   "metadata": {},
   "outputs": [],
   "source": [
    "Lab7_Equifax = Lab7_Redesign.loc[Lab7_Redesign['ENTITY'] == 'Equifax']"
   ]
  },
  {
   "cell_type": "code",
   "execution_count": 36,
   "metadata": {},
   "outputs": [
    {
     "data": {
      "text/html": [
       "<div>\n",
       "<style>\n",
       "    .dataframe thead tr:only-child th {\n",
       "        text-align: right;\n",
       "    }\n",
       "\n",
       "    .dataframe thead th {\n",
       "        text-align: left;\n",
       "    }\n",
       "\n",
       "    .dataframe tbody tr th {\n",
       "        vertical-align: top;\n",
       "    }\n",
       "</style>\n",
       "<table border=\"1\" class=\"dataframe\">\n",
       "  <thead>\n",
       "    <tr style=\"text-align: right;\">\n",
       "      <th></th>\n",
       "      <th>ENTITY</th>\n",
       "      <th>YEAR</th>\n",
       "      <th>RECORDS LOST</th>\n",
       "      <th>ORGANISATION</th>\n",
       "      <th>METHOD OF LEAK</th>\n",
       "      <th>DATA SENSITIVITY</th>\n",
       "      <th>Ticker_Symbol</th>\n",
       "      <th>Symbol</th>\n",
       "      <th>Date</th>\n",
       "      <th>Close</th>\n",
       "    </tr>\n",
       "  </thead>\n",
       "  <tbody>\n",
       "    <tr>\n",
       "      <th>49016</th>\n",
       "      <td>Equifax</td>\n",
       "      <td>2017</td>\n",
       "      <td>143000000</td>\n",
       "      <td>financial</td>\n",
       "      <td>hacked</td>\n",
       "      <td>Full bank account details</td>\n",
       "      <td>EFX</td>\n",
       "      <td>EFX</td>\n",
       "      <td>2010-01-04</td>\n",
       "      <td>31.469999</td>\n",
       "    </tr>\n",
       "    <tr>\n",
       "      <th>49017</th>\n",
       "      <td>Equifax</td>\n",
       "      <td>2017</td>\n",
       "      <td>143000000</td>\n",
       "      <td>financial</td>\n",
       "      <td>hacked</td>\n",
       "      <td>Full bank account details</td>\n",
       "      <td>EFX</td>\n",
       "      <td>EFX</td>\n",
       "      <td>2010-01-05</td>\n",
       "      <td>31.459999</td>\n",
       "    </tr>\n",
       "    <tr>\n",
       "      <th>49018</th>\n",
       "      <td>Equifax</td>\n",
       "      <td>2017</td>\n",
       "      <td>143000000</td>\n",
       "      <td>financial</td>\n",
       "      <td>hacked</td>\n",
       "      <td>Full bank account details</td>\n",
       "      <td>EFX</td>\n",
       "      <td>EFX</td>\n",
       "      <td>2010-01-06</td>\n",
       "      <td>31.799999</td>\n",
       "    </tr>\n",
       "    <tr>\n",
       "      <th>49019</th>\n",
       "      <td>Equifax</td>\n",
       "      <td>2017</td>\n",
       "      <td>143000000</td>\n",
       "      <td>financial</td>\n",
       "      <td>hacked</td>\n",
       "      <td>Full bank account details</td>\n",
       "      <td>EFX</td>\n",
       "      <td>EFX</td>\n",
       "      <td>2010-01-07</td>\n",
       "      <td>31.930000</td>\n",
       "    </tr>\n",
       "    <tr>\n",
       "      <th>49020</th>\n",
       "      <td>Equifax</td>\n",
       "      <td>2017</td>\n",
       "      <td>143000000</td>\n",
       "      <td>financial</td>\n",
       "      <td>hacked</td>\n",
       "      <td>Full bank account details</td>\n",
       "      <td>EFX</td>\n",
       "      <td>EFX</td>\n",
       "      <td>2010-01-08</td>\n",
       "      <td>31.940001</td>\n",
       "    </tr>\n",
       "  </tbody>\n",
       "</table>\n",
       "</div>"
      ],
      "text/plain": [
       "        ENTITY  YEAR RECORDS LOST ORGANISATION METHOD OF LEAK  \\\n",
       "49016  Equifax  2017    143000000    financial         hacked   \n",
       "49017  Equifax  2017    143000000    financial         hacked   \n",
       "49018  Equifax  2017    143000000    financial         hacked   \n",
       "49019  Equifax  2017    143000000    financial         hacked   \n",
       "49020  Equifax  2017    143000000    financial         hacked   \n",
       "\n",
       "                DATA SENSITIVITY Ticker_Symbol Symbol       Date      Close  \n",
       "49016  Full bank account details           EFX    EFX 2010-01-04  31.469999  \n",
       "49017  Full bank account details           EFX    EFX 2010-01-05  31.459999  \n",
       "49018  Full bank account details           EFX    EFX 2010-01-06  31.799999  \n",
       "49019  Full bank account details           EFX    EFX 2010-01-07  31.930000  \n",
       "49020  Full bank account details           EFX    EFX 2010-01-08  31.940001  "
      ]
     },
     "execution_count": 36,
     "metadata": {},
     "output_type": "execute_result"
    }
   ],
   "source": [
    "Lab7_Equifax.head()\n"
   ]
  },
  {
   "cell_type": "code",
   "execution_count": 37,
   "metadata": {
    "collapsed": true
   },
   "outputs": [],
   "source": [
    "Lab7_Equifax.to_csv('Lab7_Equifax.csv',index=False)"
   ]
  },
  {
   "cell_type": "markdown",
   "metadata": {},
   "source": [
    "Downloaded and added more Financial data from Nasdaq about Equifax for Fiscal years 2009-2017\n",
    "This additional data would give insights about Revenue and EPS for 9 consecutive years. So, it clearly shows how in the year of the breach the income generated experienced a sudden fall as compared to the previous year. Also, Earnings per Share is the indicator of a company's profitability, it also dropped from 4.04 to 2.61.\n",
    "\n",
    "Data source: http://www.nasdaq.com/symbol/efx/revenue-eps"
   ]
  },
  {
   "cell_type": "code",
   "execution_count": 44,
   "metadata": {
    "collapsed": true
   },
   "outputs": [],
   "source": [
    "Lab7_RevenueEPS0 = pd.read_excel(r\"C:\\Users\\Tanushree\\Desktop\\UNIVERSITY\\Quarter 4\\Dashboard\\Lab7_Session\\Nasdaq data.xlsx\",sheetname = 0)"
   ]
  },
  {
   "cell_type": "code",
   "execution_count": 45,
   "metadata": {},
   "outputs": [
    {
     "data": {
      "text/html": [
       "<div>\n",
       "<style>\n",
       "    .dataframe thead tr:only-child th {\n",
       "        text-align: right;\n",
       "    }\n",
       "\n",
       "    .dataframe thead th {\n",
       "        text-align: left;\n",
       "    }\n",
       "\n",
       "    .dataframe tbody tr th {\n",
       "        vertical-align: top;\n",
       "    }\n",
       "</style>\n",
       "<table border=\"1\" class=\"dataframe\">\n",
       "  <thead>\n",
       "    <tr style=\"text-align: right;\">\n",
       "      <th></th>\n",
       "      <th>Fiscal Year</th>\n",
       "      <th>Revenue</th>\n",
       "      <th>EPS</th>\n",
       "      <th>Dividends</th>\n",
       "    </tr>\n",
       "  </thead>\n",
       "  <tbody>\n",
       "    <tr>\n",
       "      <th>0</th>\n",
       "      <td>2017</td>\n",
       "      <td>1689000000</td>\n",
       "      <td>2.61</td>\n",
       "      <td>0.78</td>\n",
       "    </tr>\n",
       "    <tr>\n",
       "      <th>1</th>\n",
       "      <td>2016</td>\n",
       "      <td>3144000000</td>\n",
       "      <td>4.04</td>\n",
       "      <td>1.32</td>\n",
       "    </tr>\n",
       "    <tr>\n",
       "      <th>2</th>\n",
       "      <td>2015</td>\n",
       "      <td>2663000000</td>\n",
       "      <td>3.55</td>\n",
       "      <td>1.16</td>\n",
       "    </tr>\n",
       "    <tr>\n",
       "      <th>3</th>\n",
       "      <td>2014</td>\n",
       "      <td>2436000000</td>\n",
       "      <td>2.97</td>\n",
       "      <td>1.00</td>\n",
       "    </tr>\n",
       "    <tr>\n",
       "      <th>4</th>\n",
       "      <td>2013</td>\n",
       "      <td>2303000000</td>\n",
       "      <td>2.84</td>\n",
       "      <td>0.88</td>\n",
       "    </tr>\n",
       "  </tbody>\n",
       "</table>\n",
       "</div>"
      ],
      "text/plain": [
       "   Fiscal Year     Revenue   EPS  Dividends\n",
       "0         2017  1689000000  2.61       0.78\n",
       "1         2016  3144000000  4.04       1.32\n",
       "2         2015  2663000000  3.55       1.16\n",
       "3         2014  2436000000  2.97       1.00\n",
       "4         2013  2303000000  2.84       0.88"
      ]
     },
     "execution_count": 45,
     "metadata": {},
     "output_type": "execute_result"
    }
   ],
   "source": [
    "Lab7_RevenueEPS0.head()"
   ]
  },
  {
   "cell_type": "markdown",
   "metadata": {},
   "source": [
    "Drop the column about Dividends"
   ]
  },
  {
   "cell_type": "code",
   "execution_count": 46,
   "metadata": {},
   "outputs": [],
   "source": [
    "Lab7_RevenueEPS = Lab7_RevenueEPS0.drop('Dividends', axis=1)"
   ]
  },
  {
   "cell_type": "markdown",
   "metadata": {},
   "source": [
    "Exporting the csv file "
   ]
  },
  {
   "cell_type": "code",
   "execution_count": 48,
   "metadata": {},
   "outputs": [],
   "source": [
    "Lab7_RevenueEPS.to_csv('Lab7_RevenueEPS.csv',index=False)\n"
   ]
  }
 ],
 "metadata": {
  "kernelspec": {
   "display_name": "Python 3",
   "language": "python",
   "name": "python3"
  },
  "language_info": {
   "codemirror_mode": {
    "name": "ipython",
    "version": 3
   },
   "file_extension": ".py",
   "mimetype": "text/x-python",
   "name": "python",
   "nbconvert_exporter": "python",
   "pygments_lexer": "ipython3",
   "version": "3.6.1"
  }
 },
 "nbformat": 4,
 "nbformat_minor": 2
}
